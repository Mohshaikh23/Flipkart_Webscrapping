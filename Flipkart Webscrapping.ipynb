{
 "cells": [
  {
   "cell_type": "code",
   "execution_count": 1,
   "id": "42bd7871",
   "metadata": {},
   "outputs": [
    {
     "name": "stdout",
     "output_type": "stream",
     "text": [
      "Requirement already satisfied: beautifulsoup4 in d:\\applications\\anaconda\\anaconda_navigator\\lib\\site-packages (4.12.2)\n",
      "Requirement already satisfied: soupsieve>1.2 in d:\\applications\\anaconda\\anaconda_navigator\\lib\\site-packages (from beautifulsoup4) (2.4)\n"
     ]
    },
    {
     "name": "stderr",
     "output_type": "stream",
     "text": [
      "WARNING: Ignoring invalid distribution -rotobuf (d:\\applications\\anaconda\\anaconda_navigator\\lib\\site-packages)\n",
      "WARNING: Ignoring invalid distribution -pencv-python (d:\\applications\\anaconda\\anaconda_navigator\\lib\\site-packages)\n",
      "WARNING: Ignoring invalid distribution -rotobuf (d:\\applications\\anaconda\\anaconda_navigator\\lib\\site-packages)\n",
      "WARNING: Ignoring invalid distribution -pencv-python (d:\\applications\\anaconda\\anaconda_navigator\\lib\\site-packages)\n",
      "WARNING: Ignoring invalid distribution -rotobuf (d:\\applications\\anaconda\\anaconda_navigator\\lib\\site-packages)\n",
      "WARNING: Ignoring invalid distribution -pencv-python (d:\\applications\\anaconda\\anaconda_navigator\\lib\\site-packages)\n",
      "WARNING: Ignoring invalid distribution -rotobuf (d:\\applications\\anaconda\\anaconda_navigator\\lib\\site-packages)\n",
      "WARNING: Ignoring invalid distribution -pencv-python (d:\\applications\\anaconda\\anaconda_navigator\\lib\\site-packages)\n",
      "WARNING: Ignoring invalid distribution -rotobuf (d:\\applications\\anaconda\\anaconda_navigator\\lib\\site-packages)\n",
      "WARNING: Ignoring invalid distribution -pencv-python (d:\\applications\\anaconda\\anaconda_navigator\\lib\\site-packages)\n",
      "WARNING: Ignoring invalid distribution -rotobuf (d:\\applications\\anaconda\\anaconda_navigator\\lib\\site-packages)\n",
      "WARNING: Ignoring invalid distribution -pencv-python (d:\\applications\\anaconda\\anaconda_navigator\\lib\\site-packages)\n"
     ]
    },
    {
     "name": "stdout",
     "output_type": "stream",
     "text": [
      "Requirement already satisfied: pandas in d:\\applications\\anaconda\\anaconda_navigator\\lib\\site-packages (2.0.1)\n",
      "Requirement already satisfied: pytz>=2020.1 in d:\\applications\\anaconda\\anaconda_navigator\\lib\\site-packages (from pandas) (2022.7)\n",
      "Requirement already satisfied: numpy>=1.20.3 in d:\\applications\\anaconda\\anaconda_navigator\\lib\\site-packages (from pandas) (1.24.3)\n",
      "Requirement already satisfied: tzdata>=2022.1 in d:\\applications\\anaconda\\anaconda_navigator\\lib\\site-packages (from pandas) (2023.3)\n",
      "Requirement already satisfied: python-dateutil>=2.8.2 in d:\\applications\\anaconda\\anaconda_navigator\\lib\\site-packages (from pandas) (2.8.2)\n",
      "Requirement already satisfied: six>=1.5 in d:\\applications\\anaconda\\anaconda_navigator\\lib\\site-packages (from python-dateutil>=2.8.2->pandas) (1.16.0)\n"
     ]
    },
    {
     "name": "stderr",
     "output_type": "stream",
     "text": [
      "WARNING: Ignoring invalid distribution -rotobuf (d:\\applications\\anaconda\\anaconda_navigator\\lib\\site-packages)\n",
      "WARNING: Ignoring invalid distribution -pencv-python (d:\\applications\\anaconda\\anaconda_navigator\\lib\\site-packages)\n",
      "WARNING: Ignoring invalid distribution -rotobuf (d:\\applications\\anaconda\\anaconda_navigator\\lib\\site-packages)\n",
      "WARNING: Ignoring invalid distribution -pencv-python (d:\\applications\\anaconda\\anaconda_navigator\\lib\\site-packages)\n",
      "WARNING: Ignoring invalid distribution -rotobuf (d:\\applications\\anaconda\\anaconda_navigator\\lib\\site-packages)\n",
      "WARNING: Ignoring invalid distribution -pencv-python (d:\\applications\\anaconda\\anaconda_navigator\\lib\\site-packages)\n",
      "WARNING: Ignoring invalid distribution -rotobuf (d:\\applications\\anaconda\\anaconda_navigator\\lib\\site-packages)\n",
      "WARNING: Ignoring invalid distribution -pencv-python (d:\\applications\\anaconda\\anaconda_navigator\\lib\\site-packages)\n",
      "WARNING: Ignoring invalid distribution -rotobuf (d:\\applications\\anaconda\\anaconda_navigator\\lib\\site-packages)\n",
      "WARNING: Ignoring invalid distribution -pencv-python (d:\\applications\\anaconda\\anaconda_navigator\\lib\\site-packages)\n",
      "WARNING: Ignoring invalid distribution -rotobuf (d:\\applications\\anaconda\\anaconda_navigator\\lib\\site-packages)\n",
      "WARNING: Ignoring invalid distribution -pencv-python (d:\\applications\\anaconda\\anaconda_navigator\\lib\\site-packages)\n"
     ]
    },
    {
     "name": "stdout",
     "output_type": "stream",
     "text": [
      "Requirement already satisfied: requests in d:\\applications\\anaconda\\anaconda_navigator\\lib\\site-packages (2.29.0)\n",
      "Requirement already satisfied: urllib3<1.27,>=1.21.1 in d:\\applications\\anaconda\\anaconda_navigator\\lib\\site-packages (from requests) (1.26.15)\n",
      "Requirement already satisfied: idna<4,>=2.5 in d:\\applications\\anaconda\\anaconda_navigator\\lib\\site-packages (from requests) (3.4)\n",
      "Requirement already satisfied: certifi>=2017.4.17 in d:\\applications\\anaconda\\anaconda_navigator\\lib\\site-packages (from requests) (2023.5.7)\n",
      "Requirement already satisfied: charset-normalizer<4,>=2 in d:\\applications\\anaconda\\anaconda_navigator\\lib\\site-packages (from requests) (2.0.4)\n"
     ]
    },
    {
     "name": "stderr",
     "output_type": "stream",
     "text": [
      "WARNING: Ignoring invalid distribution -rotobuf (d:\\applications\\anaconda\\anaconda_navigator\\lib\\site-packages)\n",
      "WARNING: Ignoring invalid distribution -pencv-python (d:\\applications\\anaconda\\anaconda_navigator\\lib\\site-packages)\n",
      "WARNING: Ignoring invalid distribution -rotobuf (d:\\applications\\anaconda\\anaconda_navigator\\lib\\site-packages)\n",
      "WARNING: Ignoring invalid distribution -pencv-python (d:\\applications\\anaconda\\anaconda_navigator\\lib\\site-packages)\n",
      "WARNING: Ignoring invalid distribution -rotobuf (d:\\applications\\anaconda\\anaconda_navigator\\lib\\site-packages)\n",
      "WARNING: Ignoring invalid distribution -pencv-python (d:\\applications\\anaconda\\anaconda_navigator\\lib\\site-packages)\n",
      "WARNING: Ignoring invalid distribution -rotobuf (d:\\applications\\anaconda\\anaconda_navigator\\lib\\site-packages)\n",
      "WARNING: Ignoring invalid distribution -pencv-python (d:\\applications\\anaconda\\anaconda_navigator\\lib\\site-packages)\n",
      "WARNING: Ignoring invalid distribution -rotobuf (d:\\applications\\anaconda\\anaconda_navigator\\lib\\site-packages)\n",
      "WARNING: Ignoring invalid distribution -pencv-python (d:\\applications\\anaconda\\anaconda_navigator\\lib\\site-packages)\n",
      "WARNING: Ignoring invalid distribution -rotobuf (d:\\applications\\anaconda\\anaconda_navigator\\lib\\site-packages)\n",
      "WARNING: Ignoring invalid distribution -pencv-python (d:\\applications\\anaconda\\anaconda_navigator\\lib\\site-packages)\n"
     ]
    }
   ],
   "source": [
    "!pip install beautifulsoup4\n",
    "!pip install pandas\n",
    "!pip install requests"
   ]
  },
  {
   "cell_type": "code",
   "execution_count": 2,
   "id": "dbaf3831",
   "metadata": {},
   "outputs": [],
   "source": [
    "import pandas as pd\n",
    "from bs4 import BeautifulSoup\n",
    "import requests\n",
    "import re"
   ]
  },
  {
   "cell_type": "code",
   "execution_count": 5,
   "id": "58a7b9c2",
   "metadata": {
    "scrolled": false
   },
   "outputs": [
    {
     "name": "stdout",
     "output_type": "stream",
     "text": [
      "5000\n"
     ]
    }
   ],
   "source": [
    "import requests\n",
    "from bs4 import BeautifulSoup\n",
    "\n",
    "url_template = \"https://www.flipkart.com/search?q=phones+under+{}&otracker=search&otracker1=search&marketplace=FLIPKART&as-show=on&as=off&page={}\"\n",
    "\n",
    "Product_Name = []\n",
    "description = []\n",
    "Price = []\n",
    "offer_price = []\n",
    "review = []\n",
    "tag = []\n",
    "rows =[]\n",
    "\n",
    "df = pd.DataFrame(columns = [\"Product_Name\",\n",
    "                             \"description\",\n",
    "                             \"Price\",\n",
    "                             \"offer_price\",\n",
    "                             \"review\"])\n",
    "\n",
    "\n",
    "# Iterate over each page\n",
    "n = int(input())\n",
    "for page in range(0,41):\n",
    "    \n",
    "    url = url_template.format(n,page)\n",
    "    response = requests.get(url)\n",
    "    soup = BeautifulSoup(response.content, 'lxml')\n",
    "    \n",
    "    box = soup.find(\"div\", class_=\"_1YokD2 _3Mn1Gg\")\n",
    "    \n",
    "    names = box.select(\"div._4rR01T\")\n",
    "    for name in names:\n",
    "        Product_Name = name.text\n",
    "    \n",
    "    descr = box.select(\"ul._1xgFaf\")\n",
    "    for des in descr:\n",
    "        description = des.text\n",
    "    \n",
    "    prices = soup.select(\"div._3I9_wc._27UcVY\")\n",
    "    for price in prices:\n",
    "        Price = price.text\n",
    "    \n",
    "    offers = box.select(\"div._30jeq3._1_WHN1\")\n",
    "    for off in offers:\n",
    "        offer_price = off.text\n",
    "    \n",
    "    reviews = box.select(\"div._3LWZlK\")\n",
    "    for revi in reviews:\n",
    "        review = revi.text\n",
    "        \n",
    "    row = {'Product_Name': Product_Name, \n",
    "           'description': description,\n",
    "           'Price': Price,\n",
    "           'offer_price': offer_price,\n",
    "           'review': review}\n",
    "    \n",
    "    rows.append(row)\n",
    "    df = pd.concat([df, pd.DataFrame(rows)], ignore_index=True)\n",
    "\n",
    "df.to_csv(\"mobiles_under_{}\".format(n))"
   ]
  },
  {
   "cell_type": "code",
   "execution_count": 4,
   "id": "6683c482",
   "metadata": {},
   "outputs": [],
   "source": [
    "# r = requests.get(url_template.format(1,1))\n",
    "# soup = BeautifulSoup(r.text, 'lxml')\n",
    "# tag1 = soup.find_all(\"div\", class_ =\"_2MImiq\")\n",
    "\n",
    "# for div in tag1:\n",
    "#     span_element = div.find(\"span\")\n",
    "#     span_text = span_element.text\n",
    "#     tag.append(span_text)\n",
    "    \n",
    "# total_pages = int(re.findall(r'\\d+', tag[-1])[-1])"
   ]
  },
  {
   "cell_type": "code",
   "execution_count": null,
   "id": "e8ad6389",
   "metadata": {},
   "outputs": [],
   "source": []
  }
 ],
 "metadata": {
  "kernelspec": {
   "display_name": "Python 3 (ipykernel)",
   "language": "python",
   "name": "python3"
  },
  "language_info": {
   "codemirror_mode": {
    "name": "ipython",
    "version": 3
   },
   "file_extension": ".py",
   "mimetype": "text/x-python",
   "name": "python",
   "nbconvert_exporter": "python",
   "pygments_lexer": "ipython3",
   "version": "3.9.16"
  }
 },
 "nbformat": 4,
 "nbformat_minor": 5
}
